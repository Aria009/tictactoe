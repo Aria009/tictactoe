{
 "cells": [
  {
   "cell_type": "code",
   "execution_count": 1,
   "metadata": {
    "collapsed": true
   },
   "outputs": [],
   "source": [
    "def check_winner():\n",
    "\n",
    "    #horizontal\n",
    "    if matrix[0] == ['x','x','x'] or matrix[1] == ['x','x','x'] or matrix[2] == ['x','x','x']:\n",
    "        print ('x won! Horizontal line.')\n",
    "        tictactoe.counter = 11\n",
    "\n",
    "    #vertical\n",
    "    elif [row[0] for row in matrix] == ['x','x','x'] or [row[1] for row in matrix] == ['x','x','x'] or [row[2] for row in matrix] == ['x','x','x']:\n",
    "        print('x won! Vertical line.')\n",
    "        tictactoe.counter = 11\n",
    "\n",
    "    #diagonal\n",
    "    elif (matrix[0][0] == matrix[1][1] == matrix[2][2] == 'x') or (matrix[0][2] == matrix[1][1] == matrix[2][0] == 'x'):\n",
    "        print('x won! Diagonal line.')\n",
    "        tictactoe.counter = 11\n",
    "        \n",
    "        #horizontal\n",
    "    elif matrix[0] == ['o','o','o'] or matrix[1] == ['o','o','o'] or matrix[2] == ['o','o','o']:\n",
    "        print ('o won! Horizontal line.')\n",
    "        tictactoe.counter = 11\n",
    "\n",
    "    #vertical\n",
    "    elif [row[0] for row in matrix] == ['o','o','o'] or [row[1] for row in matrix] == ['o','o','o'] or [row[2] for row in matrix] == ['o','o','o']:\n",
    "        print('o won! Vertical line.')\n",
    "        tictactoe.counter = 11\n",
    "\n",
    "    #diagonal\n",
    "    elif (matrix[0][0] == matrix[1][1] ==  matrix[2][2] == 'o') or (matrix[0][2] == matrix[1][1] == matrix[2][0] == 'o'):\n",
    "        print('o won! Diagonal line.')\n",
    "        tictactoe.counter = 11\n",
    "    \n",
    "    elif tictactoe.counter > 9:\n",
    "        print(\"it's a draw.\")\n",
    "        "
   ]
  },
  {
   "cell_type": "code",
   "execution_count": 2,
   "metadata": {
    "collapsed": true
   },
   "outputs": [],
   "source": [
    "def xo_replacer(position):\n",
    "\n",
    "    if any(position in m for m in matrix):\n",
    "        matrix[0] = [xos if place==position else place for place in matrix[0]]\n",
    "        matrix[1] = [xos if place==position else place for place in matrix[1]]\n",
    "        matrix[2] = [xos if place==position else place for place in matrix[2]]\n",
    "        tictactoe.counter +=1\n",
    "    else:\n",
    "        print('Position {x} is used already. Please choose another one.'.format(x = position))\n"
   ]
  },
  {
   "cell_type": "code",
   "execution_count": 18,
   "metadata": {},
   "outputs": [],
   "source": [
    "def tictactoe():\n",
    "    global matrix, x, o, starter, not_starter, xos\n",
    "    \n",
    "    if tictactoe.counter == 1:          #declaring default variables, only runs if it's round 1. when restarting is requested.\n",
    "        matrix = [[1,2,3],[4,5,6],[7,8,9]]\n",
    "        x = 'x'\n",
    "        o = 'o'\n",
    "        tictactoe.counter = 1\n",
    "        starter=0\n",
    "        not_starter=0\n",
    "    \n",
    "    \n",
    "    \n",
    "    while True:\n",
    "        position = raw_input(\"Position number:  \")\n",
    "        try:\n",
    "            position = int(position)\n",
    "            if position < 1 or position >9:\n",
    "                print(\"Sorry, input must be an integer from 1 to 9, try again.\")\n",
    "                continue\n",
    "            break\n",
    "        except ValueError:\n",
    "            print(\"That's not an int!\")\n",
    "            \n",
    "    \n",
    "    #1st round:\n",
    "    if tictactoe.counter == 1:\n",
    "        \n",
    "        while True:\n",
    "            xos = str(raw_input(\"Are you x or o?  \"))\n",
    "            try:\n",
    "                if xos == 'restart':\n",
    "                    restarting = str(raw_input(\"Are you sure you want to restart?  \"))\n",
    "                    if restarting == 'yes':\n",
    "                        tictactoe.counter = 1\n",
    "                        print(\"Game was reset. Shift+Enter to play again.\")\n",
    "                        return\n",
    "\n",
    "                if xos != 'x' and xos != 'o' and xos != 'restart':\n",
    "                    print(\"Sorry, input must be either x or o, try again.\")\n",
    "                    continue\n",
    "                break\n",
    "            except ValueError:\n",
    "                print(\"That's not an x or o!\")\n",
    "        \n",
    "        if xos == x:\n",
    "            print( \"1st Round was {y}\".format(y = xos) )\n",
    "            starter = x\n",
    "            not_starter = o\n",
    "            xo_replacer(position)\n",
    "                \n",
    "        elif xos == o:\n",
    "            print( \"1st Round was {y}\".format(y = xos) )\n",
    "            starter = o\n",
    "            not_starter = x\n",
    "            xo_replacer(position)\n",
    "    #end 1st round\n",
    "    \n",
    "    #all rounds til 9:\n",
    "    elif tictactoe.counter > 1 and tictactoe.counter <= 9:\n",
    "        \n",
    "        if (tictactoe.counter%2==1 and starter==x) or (tictactoe.counter%2==0 and not_starter==x):\n",
    "            xos = x\n",
    "            xo_replacer(position)\n",
    "            check_winner()\n",
    "        elif (tictactoe.counter%2==1 and starter==o) or  (tictactoe.counter%2==0 and not_starter==o):\n",
    "            xos = o\n",
    "            xo_replacer(position)\n",
    "            check_winner()\n",
    "            \n",
    "    #end all rounds til 9:\n",
    "    \n",
    "    elif tictactoe.counter > 9:\n",
    "        print( \"Game over. Press Shift+Enter, then imput 'restart' \" )\n",
    "    \n",
    "    else:\n",
    "        print(\"A bug! This was't supposed to happen.\")\n",
    "    \n",
    "    print ( '[%s]' % ', '.join(map(str, matrix[0])) )\n",
    "    print ( '[%s]' % ', '.join(map(str, matrix[1])) )\n",
    "    print ( '[%s]' % ', '.join(map(str, matrix[2])) )\n",
    "tictactoe.counter = 1"
   ]
  },
  {
   "cell_type": "code",
   "execution_count": 24,
   "metadata": {
    "scrolled": false
   },
   "outputs": [
    {
     "name": "stdout",
     "output_type": "stream",
     "text": [
      "Position number:  7\n",
      "o won! Diagonal line.\n",
      "[x, 2, o]\n",
      "[4, o, x]\n",
      "[o, 8, x]\n"
     ]
    }
   ],
   "source": [
    "tictactoe()"
   ]
  },
  {
   "cell_type": "code",
   "execution_count": 25,
   "metadata": {},
   "outputs": [
    {
     "data": {
      "text/plain": [
       "11"
      ]
     },
     "execution_count": 25,
     "metadata": {},
     "output_type": "execute_result"
    }
   ],
   "source": [
    "tictactoe.counter"
   ]
  },
  {
   "cell_type": "markdown",
   "metadata": {},
   "source": [
    "-tell the player who's turn it is, and the round number.\n",
    "\n",
    "-ask for restart (Y/N) at the end. or after a player win.\n",
    "\n",
    "-show the board before start. also ask x or o? before position on round 1."
   ]
  },
  {
   "cell_type": "code",
   "execution_count": null,
   "metadata": {
    "collapsed": true
   },
   "outputs": [],
   "source": []
  }
 ],
 "metadata": {
  "kernelspec": {
   "display_name": "Python 2",
   "language": "python",
   "name": "python2"
  },
  "language_info": {
   "codemirror_mode": {
    "name": "ipython",
    "version": 2
   },
   "file_extension": ".py",
   "mimetype": "text/x-python",
   "name": "python",
   "nbconvert_exporter": "python",
   "pygments_lexer": "ipython2",
   "version": "2.7.14"
  }
 },
 "nbformat": 4,
 "nbformat_minor": 2
}
